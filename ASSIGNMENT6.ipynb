{
 "cells": [
  {
   "cell_type": "code",
   "execution_count": null,
   "id": "b8d23af3",
   "metadata": {},
   "outputs": [],
   "source": [
    "escape characters is a backslash \\followed by character you want to insert."
   ]
  },
  {
   "cell_type": "code",
   "execution_count": null,
   "id": "1c256f36",
   "metadata": {},
   "outputs": [],
   "source": [
    "\\n stands for newline\n",
    "\\t stands for tab"
   ]
  },
  {
   "cell_type": "code",
   "execution_count": null,
   "id": "bd8da775",
   "metadata": {},
   "outputs": [],
   "source": [
    "put a backslash charcter \\ followed by a quote(\\' or \\\")"
   ]
  },
  {
   "cell_type": "code",
   "execution_count": 5,
   "id": "e6dd6cf3",
   "metadata": {},
   "outputs": [],
   "source": [
    "a=\"Howl's Moving Castle\""
   ]
  },
  {
   "cell_type": "code",
   "execution_count": 6,
   "id": "be451494",
   "metadata": {},
   "outputs": [
    {
     "data": {
      "text/plain": [
       "\"Howl's Moving Castle\""
      ]
     },
     "execution_count": 6,
     "metadata": {},
     "output_type": "execute_result"
    }
   ],
   "source": [
    "a"
   ]
  },
  {
   "cell_type": "code",
   "execution_count": null,
   "id": "36391f8e",
   "metadata": {},
   "outputs": [],
   "source": [
    "It is not escaped error because we have enclosed the string double quotes."
   ]
  },
  {
   "cell_type": "code",
   "execution_count": null,
   "id": "c268e1c6",
   "metadata": {},
   "outputs": [],
   "source": [
    "we can use print() for new string line "
   ]
  },
  {
   "cell_type": "code",
   "execution_count": 10,
   "id": "3ec24ba0",
   "metadata": {},
   "outputs": [
    {
     "data": {
      "text/plain": [
       "'e'"
      ]
     },
     "execution_count": 10,
     "metadata": {},
     "output_type": "execute_result"
    }
   ],
   "source": [
    "'Hello,World!'[1]"
   ]
  },
  {
   "cell_type": "code",
   "execution_count": 11,
   "id": "9093788a",
   "metadata": {},
   "outputs": [
    {
     "data": {
      "text/plain": [
       "'Hello'"
      ]
     },
     "execution_count": 11,
     "metadata": {},
     "output_type": "execute_result"
    }
   ],
   "source": [
    "'Hello,World!'[0:5]"
   ]
  },
  {
   "cell_type": "code",
   "execution_count": 12,
   "id": "db6e6661",
   "metadata": {},
   "outputs": [
    {
     "data": {
      "text/plain": [
       "'Hello'"
      ]
     },
     "execution_count": 12,
     "metadata": {},
     "output_type": "execute_result"
    }
   ],
   "source": [
    "'Hello,World!'[:5]"
   ]
  },
  {
   "cell_type": "code",
   "execution_count": 13,
   "id": "1a7f3eb2",
   "metadata": {},
   "outputs": [
    {
     "data": {
      "text/plain": [
       "'lo,World!'"
      ]
     },
     "execution_count": 13,
     "metadata": {},
     "output_type": "execute_result"
    }
   ],
   "source": [
    "'Hello,World!'[3:]"
   ]
  },
  {
   "cell_type": "code",
   "execution_count": 14,
   "id": "31cfd6d0",
   "metadata": {},
   "outputs": [
    {
     "data": {
      "text/plain": [
       "'HELLO'"
      ]
     },
     "execution_count": 14,
     "metadata": {},
     "output_type": "execute_result"
    }
   ],
   "source": [
    "'Hello'.upper()"
   ]
  },
  {
   "cell_type": "code",
   "execution_count": 15,
   "id": "7f33c86c",
   "metadata": {},
   "outputs": [
    {
     "data": {
      "text/plain": [
       "True"
      ]
     },
     "execution_count": 15,
     "metadata": {},
     "output_type": "execute_result"
    }
   ],
   "source": [
    "'Hello'.upper().isupper()"
   ]
  },
  {
   "cell_type": "code",
   "execution_count": 16,
   "id": "e11073a4",
   "metadata": {},
   "outputs": [
    {
     "data": {
      "text/plain": [
       "'hello'"
      ]
     },
     "execution_count": 16,
     "metadata": {},
     "output_type": "execute_result"
    }
   ],
   "source": [
    "'Hello'.upper().lower()"
   ]
  },
  {
   "cell_type": "code",
   "execution_count": 17,
   "id": "885b2840",
   "metadata": {},
   "outputs": [
    {
     "data": {
      "text/plain": [
       "['Remember,remember,the', 'fifth', 'of', 'july.']"
      ]
     },
     "execution_count": 17,
     "metadata": {},
     "output_type": "execute_result"
    }
   ],
   "source": [
    "'Remember,remember,the fifth of july.'.split()"
   ]
  },
  {
   "cell_type": "code",
   "execution_count": null,
   "id": "9f940e81",
   "metadata": {},
   "outputs": [],
   "source": [
    "The split() method splits a string into a list"
   ]
  },
  {
   "cell_type": "code",
   "execution_count": 18,
   "id": "4413594e",
   "metadata": {},
   "outputs": [
    {
     "data": {
      "text/plain": [
       "'There-can-only-one'"
      ]
     },
     "execution_count": 18,
     "metadata": {},
     "output_type": "execute_result"
    }
   ],
   "source": [
    "'-'.join('There can only one'.split())"
   ]
  },
  {
   "cell_type": "code",
   "execution_count": null,
   "id": "153e71ce",
   "metadata": {},
   "outputs": [],
   "source": [
    "ljust()- left justifying the string\n",
    "rjust()- rght justifyinf the string\n",
    "center()- centering the string"
   ]
  },
  {
   "cell_type": "code",
   "execution_count": null,
   "id": "35db4ee8",
   "metadata": {},
   "outputs": [],
   "source": [
    "using strip()\n",
    "lstrip()\n",
    "rstrip()\n",
    "trim() methods"
   ]
  }
 ],
 "metadata": {
  "kernelspec": {
   "display_name": "Python 3 (ipykernel)",
   "language": "python",
   "name": "python3"
  },
  "language_info": {
   "codemirror_mode": {
    "name": "ipython",
    "version": 3
   },
   "file_extension": ".py",
   "mimetype": "text/x-python",
   "name": "python",
   "nbconvert_exporter": "python",
   "pygments_lexer": "ipython3",
   "version": "3.9.12"
  }
 },
 "nbformat": 4,
 "nbformat_minor": 5
}
